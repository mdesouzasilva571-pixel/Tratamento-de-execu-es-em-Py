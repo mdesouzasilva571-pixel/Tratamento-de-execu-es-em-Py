{
  "cells": [
    {
      "cell_type": "markdown",
      "metadata": {
        "id": "view-in-github",
        "colab_type": "text"
      },
      "source": [
        "<a href=\"https://colab.research.google.com/github/mdesouzasilva571-pixel/Tratamento-de-execu-es-em-Py/blob/main/Misturando%20conceitos_py.ipynb\" target=\"_parent\"><img src=\"https://colab.research.google.com/assets/colab-badge.svg\" alt=\"Open In Colab\"/></a>"
      ]
    },
    {
      "cell_type": "code",
      "source": [
        "def verificar_par_ou_impar():\n",
        "  try:\n",
        "    numero = int(input(\"Digite um numero: \"))\n",
        "    if numero % 2 == 0:\n",
        "      print(\"O numero é par\")\n",
        "    else:\n",
        "      print(\"O numero é impar\")\n",
        "  except ValueError:\n",
        "    print(\"Digite um numero valido\")\n",
        "\n",
        "verificar_par_ou_impar()"
      ],
      "metadata": {
        "colab": {
          "base_uri": "https://localhost:8080/"
        },
        "id": "DNkdGfA7FmhE",
        "outputId": "10477025-b34b-4b13-c3c1-faea7101bef1"
      },
      "execution_count": 7,
      "outputs": [
        {
          "output_type": "stream",
          "name": "stdout",
          "text": [
            "Digite um numero: texto\n",
            "Digite um numero valido\n"
          ]
        }
      ]
    }
  ],
  "metadata": {
    "colab": {
      "name": "Conheça o Colab",
      "toc_visible": true,
      "provenance": [],
      "include_colab_link": true
    },
    "kernelspec": {
      "display_name": "Python 3",
      "name": "python3"
    }
  },
  "nbformat": 4,
  "nbformat_minor": 0
}