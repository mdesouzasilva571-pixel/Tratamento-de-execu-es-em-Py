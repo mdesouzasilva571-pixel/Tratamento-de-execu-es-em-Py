{
  "cells": [
    {
      "cell_type": "markdown",
      "metadata": {
        "id": "view-in-github",
        "colab_type": "text"
      },
      "source": [
        "<a href=\"https://colab.research.google.com/github/mdesouzasilva571-pixel/Tratamento-de-execu-es-em-Py/blob/main/Exemplos(arquivos)_py.ipynb\" target=\"_parent\"><img src=\"https://colab.research.google.com/assets/colab-badge.svg\" alt=\"Open In Colab\"/></a>"
      ]
    },
    {
      "cell_type": "code",
      "source": [
        "def verificar_par_ou_impar():\n",
        "  try:\n",
        "    numero = int(input(\"Digite um numero: \"))\n",
        "    if numero % 2 == 0:\n",
        "      print(\"O numero é par\")\n",
        "    else:\n",
        "      print(\"O numero é impar\")\n",
        "  except ValueError:\n",
        "    print(\"Digite um numero valido\")\n",
        "\n",
        "verificar_par_ou_impar()"
      ],
      "metadata": {
        "colab": {
          "base_uri": "https://localhost:8080/"
        },
        "id": "DNkdGfA7FmhE",
        "outputId": "cf450a26-efd4-4944-ca9e-d4f6dbb0b4bc"
      },
      "execution_count": 11,
      "outputs": [
        {
          "output_type": "stream",
          "name": "stdout",
          "text": [
            "Digite um numero: 5\n",
            "O numero é impar\n"
          ]
        }
      ]
    },
    {
      "cell_type": "code",
      "source": [
        "def verifivar_acesso_lista():\n",
        "  lista=[10,20,30]\n",
        "  try:\n",
        "    indice=int(input(\"Digite o indice que deseja acessar:(0,1,ou 2) \"))\n",
        "    print(f\"O valor do indice {indice} é {lista[indice]}\")\n",
        "  except IndexError:\n",
        "    print(\"Indice invalido\")\n",
        "  except ValueError:\n",
        "    print(\"Digite um numero valido\")"
      ],
      "metadata": {
        "id": "NOGtNP6FKqM8"
      },
      "execution_count": 21,
      "outputs": []
    },
    {
      "cell_type": "code",
      "source": [
        "arquivo = open(\"nome_arquivo.text\", \"w\")\n",
        "arquivo.write(\"Olá, mundo!\")\n",
        "arquivo.close()"
      ],
      "metadata": {
        "id": "0saCgonvK5fa"
      },
      "execution_count": 26,
      "outputs": []
    },
    {
      "cell_type": "code",
      "source": [
        "arquivo=open(\"nome_arquivo.text\", \"r\")\n",
        "conteudo=arquivo.read()\n",
        "print(conteudo)\n",
        "arquivo.close()"
      ],
      "metadata": {
        "id": "hniiGwFULNFJ",
        "outputId": "a7d5ffc6-d579-4429-83dd-e594996cfd03",
        "colab": {
          "base_uri": "https://localhost:8080/"
        }
      },
      "execution_count": 27,
      "outputs": [
        {
          "output_type": "stream",
          "name": "stdout",
          "text": [
            "Olá, mundo!\n"
          ]
        }
      ]
    },
    {
      "cell_type": "code",
      "source": [
        "arquivo=open(\"nome_arquivo.text\", \"a\")\n",
        "arquivo.write(\"Seja bem vindo\")\n",
        "arquivo.close()"
      ],
      "metadata": {
        "id": "QVIArJiDNOra"
      },
      "execution_count": 29,
      "outputs": []
    },
    {
      "cell_type": "code",
      "source": [
        "with open(\"nome_arquivo.text\", \"r\") as arquivo:\n",
        "  conteudo=arquivo.read()\n",
        "  print(conteudo)"
      ],
      "metadata": {
        "id": "-_KQrRBBNeRF",
        "outputId": "d4749ff2-21b9-49a5-d947-dd9f5335f72b",
        "colab": {
          "base_uri": "https://localhost:8080/"
        }
      },
      "execution_count": 30,
      "outputs": [
        {
          "output_type": "stream",
          "name": "stdout",
          "text": [
            "Olá, mundo!Seja bem vindoSeja bem vindo\n"
          ]
        }
      ]
    }
  ],
  "metadata": {
    "colab": {
      "name": "Conheça o Colab",
      "toc_visible": true,
      "provenance": [],
      "include_colab_link": true
    },
    "kernelspec": {
      "display_name": "Python 3",
      "name": "python3"
    }
  },
  "nbformat": 4,
  "nbformat_minor": 0
}